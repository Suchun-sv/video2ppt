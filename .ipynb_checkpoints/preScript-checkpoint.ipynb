{
 "cells": [
  {
   "cell_type": "code",
   "execution_count": 1,
   "metadata": {},
   "outputs": [],
   "source": [
    "import cv2\n",
    "import tqdm\n",
    "from PIL import Image\n",
    "import shutil\n",
    "from pptx import presentation\n",
    "from pptx.util import Inches"
   ]
  },
  {
   "cell_type": "code",
   "execution_count": 38,
   "metadata": {},
   "outputs": [],
   "source": [
    "import cv2\n",
    "import tqdm\n",
    "def capFrame(path):\n",
    "    cap = cv2.VideoCapture(path)\n",
    "    suc = cap.isOpened()  # 是否成功打开\n",
    "    frame_count = 0\n",
    "    frame_rate = cap.get(5)\n",
    "    total_frames = int(cap.get(7))#总帧数\n",
    "    time_interval = 30\n",
    "    time_interval_frames = int(time_interval*frame_rate)\n",
    "    for it in tqdm.tnrange(total_frames//time_interval_frames):\n",
    "        while True:\n",
    "            frame_count += 1\n",
    "            suc, frame = cap.read()\n",
    "            params = []\n",
    "            params.append(2)  # params.append(1)\n",
    "            if frame_count%time_interval_frames == 0:\n",
    "                cv2.imwrite('C:\\\\Users\\\\X1 Yoga\\\\Frames\\\\{:06}.jpg'.format(int(frame_count//frame_rate)), frame, params)\n",
    "                break\n",
    "    cap.release()"
   ]
  },
  {
   "cell_type": "code",
   "execution_count": 39,
   "metadata": {},
   "outputs": [
    {
     "data": {
      "application/vnd.jupyter.widget-view+json": {
       "model_id": "fef5566bbf594cb188e9d229df538044",
       "version_major": 2,
       "version_minor": 0
      },
      "text/plain": [
       "HBox(children=(IntProgress(value=0, max=177), HTML(value='')))"
      ]
     },
     "metadata": {},
     "output_type": "display_data"
    }
   ],
   "source": [
    "capFrame(r\"C:\\Users\\X1 Yoga\\英语课_15周.mp4\")"
   ]
  },
  {
   "cell_type": "code",
   "execution_count": 20,
   "metadata": {},
   "outputs": [
    {
     "data": {
      "text/plain": [
       "10.0"
      ]
     },
     "execution_count": 20,
     "metadata": {},
     "output_type": "execute_result"
    }
   ],
   "source": [
    "path = r\"C:\\Users\\X1 Yoga\\英语课_15周.mp4\"\n",
    "cap = cv2.VideoCapture(path)\n",
    "cap.get(5)\n",
    "#time_interval = 30"
   ]
  },
  {
   "cell_type": "code",
   "execution_count": 41,
   "metadata": {},
   "outputs": [
    {
     "ename": "FileNotFoundError",
     "evalue": "[Errno 2] No such file or directory: '1.png'",
     "output_type": "error",
     "traceback": [
      "\u001b[1;31m---------------------------------------------------------------------------\u001b[0m",
      "\u001b[1;31mFileNotFoundError\u001b[0m                         Traceback (most recent call last)",
      "\u001b[1;32m<ipython-input-41-3096d9857d26>\u001b[0m in \u001b[0;36m<module>\u001b[1;34m\u001b[0m\n\u001b[0;32m     33\u001b[0m     \u001b[1;32mreturn\u001b[0m \u001b[0msimilar\u001b[0m\u001b[1;33m\u001b[0m\u001b[1;33m\u001b[0m\u001b[0m\n\u001b[0;32m     34\u001b[0m \u001b[1;33m\u001b[0m\u001b[0m\n\u001b[1;32m---> 35\u001b[1;33m \u001b[0mimg1\u001b[0m\u001b[1;33m=\u001b[0m\u001b[0mImage\u001b[0m\u001b[1;33m.\u001b[0m\u001b[0mopen\u001b[0m\u001b[1;33m(\u001b[0m\u001b[1;34m'1.png'\u001b[0m\u001b[1;33m)\u001b[0m\u001b[1;33m\u001b[0m\u001b[1;33m\u001b[0m\u001b[0m\n\u001b[0m\u001b[0;32m     36\u001b[0m \u001b[0mimg2\u001b[0m\u001b[1;33m=\u001b[0m\u001b[0mImage\u001b[0m\u001b[1;33m.\u001b[0m\u001b[0mopen\u001b[0m\u001b[1;33m(\u001b[0m\u001b[1;34m'2.png'\u001b[0m\u001b[1;33m)\u001b[0m\u001b[1;33m\u001b[0m\u001b[1;33m\u001b[0m\u001b[0m\n\u001b[0;32m     37\u001b[0m \u001b[0mprint\u001b[0m\u001b[1;33m(\u001b[0m\u001b[1;34m'%.1f%%'\u001b[0m \u001b[1;33m%\u001b[0m \u001b[1;33m(\u001b[0m\u001b[0msimilar\u001b[0m\u001b[1;33m(\u001b[0m\u001b[0mimg1\u001b[0m\u001b[1;33m,\u001b[0m\u001b[0mimg2\u001b[0m\u001b[1;33m)\u001b[0m \u001b[1;33m*\u001b[0m \u001b[1;36m100\u001b[0m\u001b[1;33m)\u001b[0m\u001b[1;33m)\u001b[0m\u001b[1;33m\u001b[0m\u001b[1;33m\u001b[0m\u001b[0m\n",
      "\u001b[1;32mC:\\01pros\\anaconda\\lib\\site-packages\\PIL\\Image.py\u001b[0m in \u001b[0;36mopen\u001b[1;34m(fp, mode)\u001b[0m\n\u001b[0;32m   2632\u001b[0m \u001b[1;33m\u001b[0m\u001b[0m\n\u001b[0;32m   2633\u001b[0m     \u001b[1;32mif\u001b[0m \u001b[0mfilename\u001b[0m\u001b[1;33m:\u001b[0m\u001b[1;33m\u001b[0m\u001b[1;33m\u001b[0m\u001b[0m\n\u001b[1;32m-> 2634\u001b[1;33m         \u001b[0mfp\u001b[0m \u001b[1;33m=\u001b[0m \u001b[0mbuiltins\u001b[0m\u001b[1;33m.\u001b[0m\u001b[0mopen\u001b[0m\u001b[1;33m(\u001b[0m\u001b[0mfilename\u001b[0m\u001b[1;33m,\u001b[0m \u001b[1;34m\"rb\"\u001b[0m\u001b[1;33m)\u001b[0m\u001b[1;33m\u001b[0m\u001b[1;33m\u001b[0m\u001b[0m\n\u001b[0m\u001b[0;32m   2635\u001b[0m         \u001b[0mexclusive_fp\u001b[0m \u001b[1;33m=\u001b[0m \u001b[1;32mTrue\u001b[0m\u001b[1;33m\u001b[0m\u001b[1;33m\u001b[0m\u001b[0m\n\u001b[0;32m   2636\u001b[0m \u001b[1;33m\u001b[0m\u001b[0m\n",
      "\u001b[1;31mFileNotFoundError\u001b[0m: [Errno 2] No such file or directory: '1.png'"
     ]
    }
   ],
   "source": [
    "from PIL import Image\n",
    "\n",
    "def hash_img(img):#计算图片的特征序列\n",
    "    a=[]#存储图片的像素\n",
    "    hash_img=''#特征序列\n",
    "    width,height=10,10#图片缩放大小\n",
    "    img=img.resize((width,height))#图片缩放为width×height\n",
    "    for y in range(img.height):\n",
    "        b=[]\n",
    "        for x in range(img.width):\n",
    "            pos=x,y\n",
    "            color_array = img.getpixel(pos)#获得像素\n",
    "            color=sum(color_array)/3#灰度化\n",
    "            b.append(int(color))\n",
    "        a.append(b)\n",
    "    for y in range(img.height):\n",
    "        avg=sum(a[y])/len(a[y])#计算每一行的像素平均值\n",
    "        for x in range(img.width):\n",
    "            if a[y][x]>=avg:#生成特征序列,如果此点像素大于平均值则为1,反之为0\n",
    "                hash_img+='1'\n",
    "            else:\n",
    "                hash_img+='0'\n",
    "                \n",
    "    return hash_img\n",
    "    \n",
    "def similar(img1,img2):#求相似度\n",
    "    hash1=hash_img(img1)#计算img1的特征序列\n",
    "    hash2=hash_img(img2)#计算img2的特征序列\n",
    "    differnce=0\n",
    "    for i in range(len(hash1)):\n",
    "        differnce+=abs(int(hash1[i])-int(hash2[i]))\n",
    "    similar=1-(differnce/len(hash1))\n",
    "    return similar\n",
    "\n",
    "#img1=Image.open('1.png')\n",
    "#img2=Image.open('2.png')\n",
    "#print('%.1f%%' % (similar(img1,img2) * 100))\n"
   ]
  },
  {
   "cell_type": "code",
   "execution_count": 42,
   "metadata": {},
   "outputs": [],
   "source": [
    "import os\n",
    "files = os.listdir(r'C:\\\\Users\\\\X1 Yoga\\\\Frames')"
   ]
  },
  {
   "cell_type": "code",
   "execution_count": 49,
   "metadata": {},
   "outputs": [],
   "source": [
    "similar_score = [0]\n",
    "for i in range(0,len(files)-1):\n",
    "    img1=Image.open(os.path.join(r'C:\\\\Users\\\\X1 Yoga\\\\Frames',files[i]))\n",
    "    img2=Image.open(os.path.join(r'C:\\\\Users\\\\X1 Yoga\\\\Frames',files[i+1]))\n",
    "    similar_score.append(similar(img1,img2))"
   ]
  },
  {
   "cell_type": "code",
   "execution_count": 51,
   "metadata": {},
   "outputs": [
    {
     "ename": "NotADirectoryError",
     "evalue": "[WinError 267] 目录名称无效。: 'C:\\\\Users\\\\X1 Yoga\\\\英语课_15周.mp4'",
     "output_type": "error",
     "traceback": [
      "\u001b[1;31m---------------------------------------------------------------------------\u001b[0m",
      "\u001b[1;31mNotADirectoryError\u001b[0m                        Traceback (most recent call last)",
      "\u001b[1;32m<ipython-input-51-a5d40c406c18>\u001b[0m in \u001b[0;36m<module>\u001b[1;34m\u001b[0m\n\u001b[1;32m----> 1\u001b[1;33m \u001b[1;32mfor\u001b[0m \u001b[0mi\u001b[0m \u001b[1;32min\u001b[0m \u001b[0mos\u001b[0m\u001b[1;33m.\u001b[0m\u001b[0mlistdir\u001b[0m\u001b[1;33m(\u001b[0m\u001b[0mpath\u001b[0m\u001b[1;33m)\u001b[0m\u001b[1;33m:\u001b[0m\u001b[1;33m\u001b[0m\u001b[1;33m\u001b[0m\u001b[0m\n\u001b[0m\u001b[0;32m      2\u001b[0m     \u001b[0mprint\u001b[0m\u001b[1;33m(\u001b[0m\u001b[0mi\u001b[0m\u001b[1;33m)\u001b[0m\u001b[1;33m\u001b[0m\u001b[1;33m\u001b[0m\u001b[0m\n",
      "\u001b[1;31mNotADirectoryError\u001b[0m: [WinError 267] 目录名称无效。: 'C:\\\\Users\\\\X1 Yoga\\\\英语课_15周.mp4'"
     ]
    }
   ],
   "source": [
    "for i in range(0,len(files)-1):\n",
    "    img1=Image.open(os.path.join(r'C:\\\\Users\\\\X1 Yoga\\\\Frames',files[i]))\n",
    "    img2=Image.open(os.path.join(r'C:\\\\Users\\\\X1 Yoga\\\\Frames',files[i+1]))\n",
    "    similar_score.append(similar(img1,img2))"
   ]
  },
  {
   "cell_type": "code",
   "execution_count": 52,
   "metadata": {},
   "outputs": [],
   "source": []
  },
  {
   "cell_type": "code",
   "execution_count": 53,
   "metadata": {},
   "outputs": [],
   "source": [
    "for i in range(len(files)):\n",
    "    if similar_score[i]<0.93:\n",
    "        shutil.copyfile(os.path.join(r'C:\\\\Users\\\\X1 Yoga\\\\Frames',files[i]),os.path.join(r'C:\\\\Users\\\\X1 Yoga\\\\temp_file',files[i])) "
   ]
  },
  {
   "cell_type": "code",
   "execution_count": 54,
   "metadata": {},
   "outputs": [],
   "source": [
    "from pptx import presentation"
   ]
  },
  {
   "cell_type": "code",
   "execution_count": 86,
   "metadata": {},
   "outputs": [
    {
     "ename": "AttributeError",
     "evalue": "'Presentation' object has no attribute 'shape'",
     "output_type": "error",
     "traceback": [
      "\u001b[1;31m---------------------------------------------------------------------------\u001b[0m",
      "\u001b[1;31mAttributeError\u001b[0m                            Traceback (most recent call last)",
      "\u001b[1;32m<ipython-input-86-5dd711a7c804>\u001b[0m in \u001b[0;36m<module>\u001b[1;34m\u001b[0m\n\u001b[1;32m----> 1\u001b[1;33m \u001b[0mprs\u001b[0m\u001b[1;33m.\u001b[0m\u001b[0mshape\u001b[0m\u001b[1;33m\u001b[0m\u001b[1;33m\u001b[0m\u001b[0m\n\u001b[0m",
      "\u001b[1;31mAttributeError\u001b[0m: 'Presentation' object has no attribute 'shape'"
     ]
    }
   ],
   "source": [
    "prs.shape"
   ]
  },
  {
   "cell_type": "code",
   "execution_count": 100,
   "metadata": {},
   "outputs": [],
   "source": [
    "from pptx import Presentation\n",
    "prs = Presentation('core.pptx')\n",
    "for i in os.listdir(r'C:\\\\Users\\\\X1 Yoga\\\\temp_file'):\n",
    "    slide= prs.slides.add_slide(prs.slide_layouts[6])\n",
    "    img_path=os.path.join(r'C:\\\\Users\\\\X1 Yoga\\\\temp_file',i)\n",
    "    # 文件路径\n",
    "    left,top,width,height=Inches(0),Inches(0),Inches(11.02362205),Inches(5.90551181)\n",
    "    # 预设位置及大小\n",
    "    pic=slide.shapes.add_picture(img_path,left,top,width,height)\n",
    "prs.save(\"test1.pptx\")"
   ]
  },
  {
   "cell_type": "code",
   "execution_count": 88,
   "metadata": {},
   "outputs": [],
   "source": [
    "prs = Presentation('core.pptx')"
   ]
  },
  {
   "cell_type": "code",
   "execution_count": 93,
   "metadata": {},
   "outputs": [],
   "source": [
    "slide= prs.slides.add_slide(prs.slide_layouts[6])"
   ]
  },
  {
   "cell_type": "code",
   "execution_count": 99,
   "metadata": {},
   "outputs": [
    {
     "data": {
      "text/plain": [
       "<pptx.shapes.shapetree.SlideShapes at 0x1faa7784948>"
      ]
     },
     "execution_count": 99,
     "metadata": {},
     "output_type": "execute_result"
    }
   ],
   "source": []
  },
  {
   "cell_type": "code",
   "execution_count": null,
   "metadata": {},
   "outputs": [],
   "source": []
  }
 ],
 "metadata": {
  "kernelspec": {
   "display_name": "Python 3",
   "language": "python",
   "name": "python3"
  },
  "language_info": {
   "codemirror_mode": {
    "name": "ipython",
    "version": 3
   },
   "file_extension": ".py",
   "mimetype": "text/x-python",
   "name": "python",
   "nbconvert_exporter": "python",
   "pygments_lexer": "ipython3",
   "version": "3.7.3"
  }
 },
 "nbformat": 4,
 "nbformat_minor": 2
}
