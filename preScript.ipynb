{
 "cells": [
  {
   "cell_type": "code",
   "execution_count": 69,
   "metadata": {},
   "outputs": [],
   "source": [
    "import cv2\n",
    "import tqdm\n",
    "from PIL import Image\n",
    "import os\n",
    "import shutil\n",
    "from pptx import Presentation\n",
    "from pptx.util import Inches"
   ]
  },
  {
   "cell_type": "code",
   "execution_count": 1,
   "metadata": {},
   "outputs": [],
   "source": [
    "class video2pptx:\n",
    "    def __init__(self,videoPath=None,pictureFolder=None,pptxPath=None,time_interval=None,reducePictureFolder=None):\n",
    "        self.videoPath = videoPath\n",
    "        self.pictureFolder = pictureFolder\n",
    "        self.pptxPath = pptxPath\n",
    "        self.time_interval = time_interval\n",
    "        self.reducePictureFolder = reducePictureFolder\n",
    "        \n",
    "    def capFrame(self,pictureFolder=None,time_interval=None,videoPath=None,):\n",
    "        # 视频路径的判断\n",
    "        if videoPath == None and self.videoPath == None:\n",
    "            raise FileNotFoundError(\"videoPath didn't specify\")\n",
    "        elif videoPath:\n",
    "            self.videoPath = videoPath\n",
    "        elif self.videoPath:\n",
    "            videoPath = self.videoPath\n",
    "        if not os.path.exists(videoPath):\n",
    "            raise FileNotFoundError(\"cannot find {}\".format(videoPath))\n",
    "        \n",
    "        #输出截图路径的判断,默认和视频路径一样\n",
    "        if pictureFolder == None and self.pictureFolder == None:\n",
    "            pictureFolder = videoPath\n",
    "            self.pictureFolder = videoPath\n",
    "        elif pictureFolder:\n",
    "            self.pictureFolder = pictureFolder\n",
    "        elif self.pictureFolder:\n",
    "            pictureFolder = self.pictureFolder\n",
    "        if not os.path.exists(pictureFolder):\n",
    "            os.mkdir(pictureFolder)\n",
    "        print(\"{} selected\".format(pictureFolder))\n",
    "        \n",
    "        #视频抓取间隔时间的判断,默认为30秒\n",
    "        if self.time_interval == None and time_interval == None:\n",
    "            time_interval = 30\n",
    "        elif self.time_interval:\n",
    "            time_interval = self.time_interval\n",
    "        \n",
    "        cap = cv2.VideoCapture(videoPath)\n",
    "        suc = cap.isOpened()  # 是否成功打开\n",
    "        frame_count = 0\n",
    "        frame_rate = cap.get(5)\n",
    "        total_frames = int(cap.get(7))#总帧数\n",
    "        time_interval_frames = int(time_interval*frame_rate)\n",
    "        for it in tqdm.tnrange(total_frames//time_interval_frames):\n",
    "            while True:\n",
    "                frame_count += 1\n",
    "                suc, frame = cap.read()\n",
    "                params = []\n",
    "                params.append(2)  # params.append(1)\n",
    "                if frame_count%time_interval_frames == 0:\n",
    "                    cv2.imwrite('{}\\\\{:06}.jpg'.format(pictureFolder,int(frame_count//frame_rate)), frame, params)\n",
    "                    break\n",
    "        cap.release()\n",
    "        print({\"pictures has been send to {}\".format(pictureFolder)})\n",
    "\n",
    "    def hash_img(self,img):#计算图片的特征序列\n",
    "        a=[]#存储图片的像素\n",
    "        hash_img=''#特征序列\n",
    "        width,height=10,10#图片缩放大小\n",
    "        img=img.resize((width,height))#图片缩放为width×height\n",
    "        for y in range(img.height):\n",
    "            b=[]\n",
    "            for x in range(img.width):\n",
    "                pos=x,y\n",
    "                color_array = img.getpixel(pos)#获得像素\n",
    "                color=sum(color_array)/3#灰度化\n",
    "                b.append(int(color))\n",
    "            a.append(b)\n",
    "        for y in range(img.height):\n",
    "            avg=sum(a[y])/len(a[y])#计算每一行的像素平均值\n",
    "            for x in range(img.width):\n",
    "                if a[y][x]>=avg:#生成特征序列,如果此点像素大于平均值则为1,反之为0\n",
    "                    hash_img+='1'\n",
    "                else:\n",
    "                    hash_img+='0'\n",
    "\n",
    "        return hash_img\n",
    "\n",
    "    def similar(self,img1,img2):#求相似度\n",
    "        hash1=self.hash_img(img1)#计算img1的特征序列\n",
    "        hash2=self.hash_img(img2)#计算img2的特征序列\n",
    "        differnce=0\n",
    "        for i in range(len(hash1)):\n",
    "            differnce+=abs(int(hash1[i])-int(hash2[i]))\n",
    "        similar=1-(differnce/len(hash1))\n",
    "        return similar\n",
    "    \n",
    "    def calcSimilar(self,pictureFolder=None):\n",
    "        if pictureFolder==None and self.pictureFolder==None:\n",
    "            raise FileNotFoundError(\"pictureFolder didn't sepecify\")\n",
    "        elif self.pictureFolder:\n",
    "            pictureFolder = self.pictureFolder\n",
    "            \n",
    "        # 计算相似度\n",
    "        similar_score = [0]\n",
    "        files = os.listdir(pictureFolder)\n",
    "        for i in range(0,len(files)-1):\n",
    "            img1=Image.open(os.path.join(pictureFolder,files[i]))\n",
    "            img2=Image.open(os.path.join(pictureFolder,files[i+1]))\n",
    "            similar_score.append(self.similar(img1,img2))\n",
    "        return similar_score\n",
    "    \n",
    "    def copyPictureBySimilar(self,threshold,pictureFolder=None,reducePictureFolder=None,similar_score=None):\n",
    "\n",
    "        #原始截图文件夹\n",
    "        if pictureFolder:\n",
    "            self.pictureFolder = pictureFolder\n",
    "            \n",
    "        if not similar_score:\n",
    "            similar_score = self.calcSimilar(self.pictureFolder)       \n",
    "        #print(similar_score)\n",
    "        #精简截图文件夹路径的判断,默认在截图文件夹后加上reduce标识\n",
    "        if reducePictureFolder == None and self.reducePictureFolder == None:\n",
    "            reducePictureFolder = self.pictureFolder+\"_reduce\"\n",
    "            self.reducePictureFolder = reducePictureFolder\n",
    "        elif reducePictureFolder:\n",
    "            pass\n",
    "        elif self.reducePictureFolder:\n",
    "            reducePictureFolder = self.reducePictureFolder\n",
    "        if not os.path.exists(reducePictureFolder):\n",
    "            os.mkdir(reducePictureFolder)\n",
    "        \n",
    "        files = os.listdir(pictureFolder)\n",
    "        #print(files)\n",
    "        for i in range(len(files)):\n",
    "            if similar_score[i]<threshold:\n",
    "                #print(os.path.join(self.pictureFolder,files[i])+os.path.join(reducePictureFolder,files[i]))\n",
    "                shutil.copyfile(os.path.join(self.pictureFolder,files[i]),os.path.join(reducePictureFolder,files[i])) \n",
    "                \n",
    "    def createPPtx(self,pptName,pptxTemplate='.//template//core.pptx',pictureFile=None):\n",
    "        if os.path.exists(pptxTemplate):\n",
    "            prs = Presentation(pptxTemplate)\n",
    "        else:\n",
    "            prs = Presentation()\n",
    "    \n",
    "        if pictureFile ==None and self.reducePictureFolder==None:\n",
    "            raise FileNotFoundError(\"reducePictureFolder cannot find\")\n",
    "        elif self.reducePictureFolder:\n",
    "            pictureFile = self.reducePictureFolder\n",
    "        \n",
    "        for i in os.listdir(pictureFile):\n",
    "            slide= prs.slides.add_slide(prs.slide_layouts[6])\n",
    "            img_path=os.path.join(pictureFile,i)\n",
    "            # 文件路径\n",
    "            left,top,width,height=Inches(0),Inches(0),Inches(11.02362205),Inches(5.90551181)\n",
    "            # 预设位置及大小\n",
    "            pic=slide.shapes.add_picture(img_path,left,top,width,height)\n",
    "        if pptName.endswith(\".pptx\"):\n",
    "            prs.save(pptName)\n",
    "        else:\n",
    "            prs.save(pptName+\".pptx\")"
   ]
  },
  {
   "cell_type": "code",
   "execution_count": 67,
   "metadata": {},
   "outputs": [],
   "source": [
    "abc = video2pptx(\".//英语课_15周.mp4\")\n",
    "\n",
    "abc.capFrame(\".//tempPicture\",60)\n",
    "\n",
    "similar_score = abc.calcSimilar(\".\\\\tempPicture\")\n",
    "print(similar_score)\n",
    "\n",
    "abc.copyPictureBySimilar(0.93,\".\\\\tempPicture\",similar_score=similar_score)\n",
    "\n",
    "abc.createPPtx(\"英语课_15周\",pictureFile=r\"./tempPicture_reduce/\")"
   ]
  },
  {
   "cell_type": "code",
   "execution_count": 49,
   "metadata": {},
   "outputs": [],
   "source": [
    "similar_score = [0]\n",
    "for i in range(0,len(files)-1):\n",
    "    img1=Image.open(os.path.join(r'C:\\\\Users\\\\X1 Yoga\\\\Frames',files[i]))\n",
    "    img2=Image.open(os.path.join(r'C:\\\\Users\\\\X1 Yoga\\\\Frames',files[i+1]))\n",
    "    similar_score.append(similar(img1,img2))"
   ]
  },
  {
   "cell_type": "code",
   "execution_count": 51,
   "metadata": {},
   "outputs": [
    {
     "ename": "NotADirectoryError",
     "evalue": "[WinError 267] 目录名称无效。: 'C:\\\\Users\\\\X1 Yoga\\\\英语课_15周.mp4'",
     "output_type": "error",
     "traceback": [
      "\u001b[1;31m---------------------------------------------------------------------------\u001b[0m",
      "\u001b[1;31mNotADirectoryError\u001b[0m                        Traceback (most recent call last)",
      "\u001b[1;32m<ipython-input-51-a5d40c406c18>\u001b[0m in \u001b[0;36m<module>\u001b[1;34m\u001b[0m\n\u001b[1;32m----> 1\u001b[1;33m \u001b[1;32mfor\u001b[0m \u001b[0mi\u001b[0m \u001b[1;32min\u001b[0m \u001b[0mos\u001b[0m\u001b[1;33m.\u001b[0m\u001b[0mlistdir\u001b[0m\u001b[1;33m(\u001b[0m\u001b[0mpath\u001b[0m\u001b[1;33m)\u001b[0m\u001b[1;33m:\u001b[0m\u001b[1;33m\u001b[0m\u001b[1;33m\u001b[0m\u001b[0m\n\u001b[0m\u001b[0;32m      2\u001b[0m     \u001b[0mprint\u001b[0m\u001b[1;33m(\u001b[0m\u001b[0mi\u001b[0m\u001b[1;33m)\u001b[0m\u001b[1;33m\u001b[0m\u001b[1;33m\u001b[0m\u001b[0m\n",
      "\u001b[1;31mNotADirectoryError\u001b[0m: [WinError 267] 目录名称无效。: 'C:\\\\Users\\\\X1 Yoga\\\\英语课_15周.mp4'"
     ]
    }
   ],
   "source": [
    "for i in range(0,len(files)-1):\n",
    "    img1=Image.open(os.path.join(r'C:\\\\Users\\\\X1 Yoga\\\\Frames',files[i]))\n",
    "    img2=Image.open(os.path.join(r'C:\\\\Users\\\\X1 Yoga\\\\Frames',files[i+1]))\n",
    "    similar_score.append(similar(img1,img2))"
   ]
  },
  {
   "cell_type": "code",
   "execution_count": 52,
   "metadata": {},
   "outputs": [],
   "source": []
  },
  {
   "cell_type": "code",
   "execution_count": 53,
   "metadata": {},
   "outputs": [],
   "source": [
    "for i in range(len(files)):\n",
    "    if similar_score[i]<0.93:\n",
    "        shutil.copyfile(os.path.join(r'C:\\\\Users\\\\X1 Yoga\\\\Frames',files[i]),os.path.join(r'C:\\\\Users\\\\X1 Yoga\\\\temp_file',files[i])) "
   ]
  },
  {
   "cell_type": "code",
   "execution_count": 54,
   "metadata": {},
   "outputs": [],
   "source": [
    "from pptx import presentation"
   ]
  },
  {
   "cell_type": "code",
   "execution_count": 86,
   "metadata": {},
   "outputs": [
    {
     "ename": "AttributeError",
     "evalue": "'Presentation' object has no attribute 'shape'",
     "output_type": "error",
     "traceback": [
      "\u001b[1;31m---------------------------------------------------------------------------\u001b[0m",
      "\u001b[1;31mAttributeError\u001b[0m                            Traceback (most recent call last)",
      "\u001b[1;32m<ipython-input-86-5dd711a7c804>\u001b[0m in \u001b[0;36m<module>\u001b[1;34m\u001b[0m\n\u001b[1;32m----> 1\u001b[1;33m \u001b[0mprs\u001b[0m\u001b[1;33m.\u001b[0m\u001b[0mshape\u001b[0m\u001b[1;33m\u001b[0m\u001b[1;33m\u001b[0m\u001b[0m\n\u001b[0m",
      "\u001b[1;31mAttributeError\u001b[0m: 'Presentation' object has no attribute 'shape'"
     ]
    }
   ],
   "source": [
    "prs.shape"
   ]
  },
  {
   "cell_type": "code",
   "execution_count": 100,
   "metadata": {},
   "outputs": [],
   "source": [
    "from pptx import Presentation\n",
    "prs = Presentation('core.pptx')\n",
    "for i in os.listdir(r'C:\\\\Users\\\\X1 Yoga\\\\temp_file'):\n",
    "    slide= prs.slides.add_slide(prs.slide_layouts[6])\n",
    "    img_path=os.path.join(r'C:\\\\Users\\\\X1 Yoga\\\\temp_file',i)\n",
    "    # 文件路径\n",
    "    left,top,width,height=Inches(0),Inches(0),Inches(11.02362205),Inches(5.90551181)\n",
    "    # 预设位置及大小\n",
    "    pic=slide.shapes.add_picture(img_path,left,top,width,height)\n",
    "prs.save(\"test1.pptx\")"
   ]
  },
  {
   "cell_type": "code",
   "execution_count": 88,
   "metadata": {},
   "outputs": [],
   "source": [
    "prs = Presentation('core.pptx')"
   ]
  },
  {
   "cell_type": "code",
   "execution_count": 93,
   "metadata": {},
   "outputs": [],
   "source": [
    "slide= prs.slides.add_slide(prs.slide_layouts[6])"
   ]
  },
  {
   "cell_type": "code",
   "execution_count": 99,
   "metadata": {},
   "outputs": [
    {
     "data": {
      "text/plain": [
       "<pptx.shapes.shapetree.SlideShapes at 0x1faa7784948>"
      ]
     },
     "execution_count": 99,
     "metadata": {},
     "output_type": "execute_result"
    }
   ],
   "source": []
  },
  {
   "cell_type": "code",
   "execution_count": null,
   "metadata": {},
   "outputs": [],
   "source": []
  }
 ],
 "metadata": {
  "kernelspec": {
   "display_name": "Python 3",
   "language": "python",
   "name": "python3"
  },
  "language_info": {
   "codemirror_mode": {
    "name": "ipython",
    "version": 3
   },
   "file_extension": ".py",
   "mimetype": "text/x-python",
   "name": "python",
   "nbconvert_exporter": "python",
   "pygments_lexer": "ipython3",
   "version": "3.7.3"
  }
 },
 "nbformat": 4,
 "nbformat_minor": 2
}
